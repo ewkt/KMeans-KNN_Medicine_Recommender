{
  "nbformat": 4,
  "nbformat_minor": 0,
  "metadata": {
    "colab": {
      "provenance": []
    },
    "kernelspec": {
      "name": "python3",
      "display_name": "Python 3"
    },
    "language_info": {
      "name": "python"
    }
  },
  "cells": [
    {
      "cell_type": "markdown",
      "source": [
        "# SYSTEME DE RECOMMENDATION DE MEDICAMMENTS PAR CLUSTERRING\n",
        "*Réalisé par Théo EWBANK, Corentin CUI, Khadidiatou DIOKH, Destinée MOUELY.*\n",
        "\n",
        "Etudiants ING3 DS - Année 2024-2025"
      ],
      "metadata": {
        "id": "-C1pGRmAp949"
      }
    },
    {
      "cell_type": "markdown",
      "source": [
        "# Imports"
      ],
      "metadata": {
        "id": "NNBSUTqO2_vg"
      }
    },
    {
      "cell_type": "code",
      "execution_count": 59,
      "metadata": {
        "id": "XpDwfc4BVEDq"
      },
      "outputs": [],
      "source": [
        "import re\n",
        "import pandas as pd\n",
        "import numpy as np\n",
        "import plotly.express as px\n",
        "from plotly.subplots import make_subplots\n",
        "import plotly.graph_objects as go\n",
        "from collections import Counter\n",
        "from sklearn.preprocessing import MultiLabelBinarizer, LabelEncoder\n",
        "from sklearn.cluster import KMeans\n",
        "from sklearn.feature_extraction.text import TfidfVectorizer\n",
        "from sklearn.neighbors import NearestNeighbors, KNeighborsClassifier\n",
        "from sklearn.model_selection import train_test_split\n",
        "from sklearn.metrics import precision_score, recall_score, silhouette_score\n",
        "\n",
        "df_name = \"/content/medical_data.csv\""
      ]
    },
    {
      "cell_type": "code",
      "source": [
        "df_raw = pd.read_csv(df_name)\n",
        "print(df_raw.head())\n",
        "print(df_raw.columns)"
      ],
      "metadata": {
        "colab": {
          "base_uri": "https://localhost:8080/"
        },
        "id": "HZvpnm4VWD2z",
        "outputId": "1bf14f3b-de31-46a5-f2c6-70c3ef9c19e7"
      },
      "execution_count": 4,
      "outputs": [
        {
          "output_type": "stream",
          "name": "stdout",
          "text": [
            "          Name DateOfBirth  Gender             Symptoms               Causes  \\\n",
            "0     John Doe  15-05-1980    Male         Fever, Cough      Viral Infection   \n",
            "1   Jane Smith  10-08-1992  Female    Headache, Fatigue               Stress   \n",
            "2  Michael Lee  20-02-1975    Male  Shortness of breath            Pollution   \n",
            "3   Emily Chen  03-11-1988  Female     Nausea, Vomiting       Food Poisoning   \n",
            "4    Alex Wong  12-06-2001    Male          Sore Throat  Bacterial Infection   \n",
            "\n",
            "           Disease           Medicine  \n",
            "0      Common Cold    Ibuprofen, Rest  \n",
            "1         Migraine        Sumatriptan  \n",
            "2           Asthma  Albuterol Inhaler  \n",
            "3  Gastroenteritis   Oral Rehydration  \n",
            "4     Strep Throat         Penicillin  \n",
            "Index(['Name', 'DateOfBirth', 'Gender', 'Symptoms', 'Causes', 'Disease',\n",
            "       'Medicine'],\n",
            "      dtype='object')\n"
          ]
        }
      ]
    },
    {
      "cell_type": "code",
      "source": [
        "#focntios essentielles\n",
        "def train_binarizers(X, mlbs):\n",
        "    mlbs[0].fit(X['Symptoms'])\n",
        "    mlbs[1].fit(X['Disease'])\n",
        "    mlbs[2].fit(X['Causes'])\n",
        "    return mlbs\n",
        "\n",
        "def encode_features(X, mlbs):\n",
        "    X_symptoms = mlbs[0].transform(X['Symptoms'])\n",
        "    X_diseases = mlbs[1].transform(X['Disease'])\n",
        "    X_causes = mlbs[2].transform(X['Causes'])\n",
        "    X_transformed = np.hstack((X_symptoms, X_diseases, X_causes))\n",
        "    return X_transformed"
      ],
      "metadata": {
        "id": "mARzDJKcFIn1"
      },
      "execution_count": 58,
      "outputs": []
    },
    {
      "cell_type": "markdown",
      "source": [
        "# Data Cleaning & Feature creation"
      ],
      "metadata": {
        "id": "0ShaywdjTtpg"
      }
    },
    {
      "cell_type": "code",
      "source": [
        "data_for_colors = df_raw.isna().astype(int)\n",
        "\n",
        "# Define colors: purple for valid cells, yellow for NaN\n",
        "colorscale = [\n",
        "    [0, 'purple'],  # 0 corresponds to valid cells\n",
        "    [1, 'yellow']   # 1 corresponds to NaN cells\n",
        "]\n",
        "# Create the heatmap\n",
        "fig = go.Figure(data=go.Heatmap(\n",
        "    z=data_for_colors.values,\n",
        "    x=df_raw.columns,\n",
        "    y=df_raw.index,\n",
        "    colorscale=colorscale,\n",
        "    showscale=False  # Hide the color scale\n",
        "))\n",
        "fig.show()"
      ],
      "metadata": {
        "colab": {
          "base_uri": "https://localhost:8080/",
          "height": 562
        },
        "id": "U8x7cA99rVnW",
        "outputId": "3f485e6f-feb4-4938-ab19-79283dd8db76"
      },
      "execution_count": 5,
      "outputs": [
        {
          "output_type": "display_data",
          "data": {
            "text/html": [
              "<html>\n",
              "<head><meta charset=\"utf-8\" /></head>\n",
              "<body>\n",
              "    <div>            <script src=\"https://cdnjs.cloudflare.com/ajax/libs/mathjax/2.7.5/MathJax.js?config=TeX-AMS-MML_SVG\"></script><script type=\"text/javascript\">if (window.MathJax && window.MathJax.Hub && window.MathJax.Hub.Config) {window.MathJax.Hub.Config({SVG: {font: \"STIX-Web\"}});}</script>                <script type=\"text/javascript\">window.PlotlyConfig = {MathJaxConfig: 'local'};</script>\n",
              "        <script charset=\"utf-8\" src=\"https://cdn.plot.ly/plotly-2.35.2.min.js\"></script>                <div id=\"15c0c739-0350-4edb-9c08-9132f26e2183\" class=\"plotly-graph-div\" style=\"height:525px; width:100%;\"></div>            <script type=\"text/javascript\">                                    window.PLOTLYENV=window.PLOTLYENV || {};                                    if (document.getElementById(\"15c0c739-0350-4edb-9c08-9132f26e2183\")) {                    Plotly.newPlot(                        \"15c0c739-0350-4edb-9c08-9132f26e2183\",                        [{\"colorscale\":[[0,\"purple\"],[1,\"yellow\"]],\"showscale\":false,\"x\":[\"Name\",\"DateOfBirth\",\"Gender\",\"Symptoms\",\"Causes\",\"Disease\",\"Medicine\"],\"y\":[0,1,2,3,4,5,6,7,8,9,10,11,12,13,14,15,16,17,18,19,20,21,22,23,24,25,26,27,28,29,30,31,32,33,34,35,36,37,38,39,40,41,42,43,44,45,46,47,48,49,50,51,52,53,54,55,56,57,58,59,60,61,62,63,64,65,66,67,68,69,70,71,72,73,74,75,76,77,78,79,80,81,82,83,84,85,86,87,88,89,90,91,92,93,94,95,96,97,98,99,100,101,102,103,104,105,106,107,108,109,110,111,112,113,114,115,116,117,118,119,120,121,122,123,124,125,126,127,128,129,130,131,132,133,134,135,136,137,138,139,140,141,142,143,144,145,146,147,148,149,150,151,152,153,154,155,156,157,158,159,160,161,162,163,164,165,166,167,168,169,170,171,172,173,174,175,176,177,178,179,180,181,182,183,184,185,186,187,188,189,190,191,192,193,194,195,196,197,198,199,200,201,202,203,204,205,206,207,208,209,210,211,212,213,214,215,216,217,218,219,220,221,222,223,224,225,226,227,228,229,230,231,232,233,234,235,236,237,238,239,240,241,242,243,244,245,246,247,248,249,250,251,252,253,254,255,256,257,258,259,260,261,262,263,264,265,266,267,268,269,270,271,272,273,274,275,276,277,278,279,280,281,282,283,284,285,286],\"z\":[[0,0,0,0,0,0,0],[0,0,0,0,0,0,0],[0,0,0,0,0,0,0],[0,0,0,0,0,0,0],[0,0,0,0,0,0,0],[0,0,0,0,0,0,0],[0,0,0,0,0,0,0],[0,0,0,0,0,0,0],[0,0,0,0,0,0,0],[0,0,0,0,0,0,0],[1,1,1,1,1,1,1],[0,0,0,0,0,0,0],[0,0,0,0,0,0,0],[0,0,0,0,0,0,0],[0,0,0,0,0,0,0],[0,0,0,0,0,0,0],[0,0,0,0,0,0,0],[0,0,0,0,0,0,0],[0,0,0,0,0,0,0],[0,0,0,0,0,0,0],[0,0,0,0,0,0,0],[0,0,0,0,0,0,0],[0,0,0,0,0,0,0],[0,0,0,0,0,0,0],[0,0,0,0,0,0,0],[0,0,0,0,0,0,0],[1,1,1,1,1,1,1],[0,0,0,0,0,0,0],[0,0,0,0,0,0,0],[0,0,0,0,0,0,0],[0,0,0,0,0,0,0],[0,0,0,0,0,0,0],[0,0,0,0,0,0,0],[1,1,1,1,1,1,1],[0,0,0,0,0,0,0],[1,1,1,1,1,1,1],[0,0,0,0,0,0,0],[0,0,0,0,0,0,0],[0,0,0,0,0,0,0],[0,0,0,0,0,0,0],[0,0,0,0,0,0,0],[0,0,0,0,0,0,0],[0,0,0,0,0,0,0],[0,0,0,0,0,0,0],[0,0,0,0,0,0,0],[0,0,0,0,0,0,0],[1,1,1,1,1,1,1],[0,0,0,0,0,0,0],[0,0,0,0,0,0,0],[1,1,1,1,1,1,1],[0,0,0,0,0,0,0],[0,0,0,0,0,0,0],[0,0,0,0,0,0,0],[0,0,0,0,0,0,0],[0,0,0,0,0,0,0],[0,0,0,0,0,0,0],[0,0,0,0,0,0,0],[0,0,0,0,0,0,0],[0,0,0,0,0,0,0],[0,0,0,0,0,0,0],[0,0,0,0,0,0,0],[0,0,0,0,0,0,0],[1,1,1,1,1,1,1],[0,0,0,0,0,0,0],[1,1,1,1,1,1,1],[0,0,0,0,0,0,0],[0,0,0,0,0,0,0],[0,0,0,0,0,0,0],[1,1,1,1,1,1,1],[0,0,0,0,0,0,0],[0,0,0,0,0,0,0],[0,0,0,0,0,0,0],[0,0,0,0,0,0,0],[0,0,0,0,0,0,0],[0,0,0,0,0,0,0],[0,0,0,0,0,0,0],[0,0,0,0,0,0,0],[0,0,0,0,0,0,0],[0,0,0,0,0,0,0],[1,1,1,1,1,1,1],[0,0,0,0,0,0,0],[0,0,0,0,0,0,0],[1,1,1,0,1,1,1],[0,0,0,0,0,0,0],[0,0,0,0,0,0,0],[0,0,0,0,0,0,0],[1,1,1,1,1,0,1],[0,0,0,0,0,0,0],[0,0,0,0,0,0,0],[0,0,0,0,0,0,0],[0,0,0,0,0,0,0],[0,0,0,0,0,0,0],[0,0,0,0,0,0,0],[0,0,0,0,0,0,0],[0,0,0,0,0,0,0],[0,0,0,0,0,0,0],[0,0,0,0,0,0,0],[1,1,1,1,1,1,1],[0,0,0,0,0,0,0],[0,0,0,0,0,0,0],[1,1,1,1,1,1,1],[0,0,0,0,0,0,0],[0,0,0,0,0,0,0],[0,0,0,0,0,0,0],[1,1,1,1,1,1,1],[0,0,0,0,0,0,0],[0,0,0,0,0,0,0],[0,0,0,0,0,0,0],[0,0,0,0,0,0,0],[0,0,0,0,0,0,0],[0,0,0,0,0,0,0],[1,1,1,1,1,1,1],[0,0,0,0,0,0,0],[0,0,0,0,0,0,0],[0,0,0,0,0,0,0],[0,0,0,0,0,0,0],[0,0,0,0,0,0,0],[0,0,0,0,0,0,0],[1,1,1,1,1,1,1],[0,0,0,0,0,0,0],[1,1,1,1,1,1,1],[0,0,0,0,0,0,0],[0,0,0,0,0,0,0],[0,0,0,0,0,0,0],[0,0,0,0,0,0,0],[0,0,0,0,0,0,0],[0,0,0,0,0,0,0],[0,0,0,0,0,0,0],[0,0,0,0,0,0,0],[0,0,0,0,0,0,0],[0,0,0,0,0,0,0],[1,1,1,1,1,1,1],[0,0,0,0,0,0,0],[0,0,0,0,0,0,0],[1,1,1,0,1,1,1],[0,0,0,0,0,0,0],[0,0,0,0,0,0,0],[0,0,0,0,0,0,0],[1,1,1,1,0,0,1],[0,0,0,0,0,0,0],[0,0,0,0,0,0,0],[0,0,0,0,0,0,0],[0,0,0,0,0,0,0],[0,0,0,0,0,0,0],[0,0,0,0,0,0,0],[0,0,0,0,0,0,0],[0,0,0,0,0,0,0],[0,0,0,0,0,0,0],[0,0,0,0,0,0,0],[1,1,1,1,0,0,1],[0,0,0,0,0,0,0],[0,0,0,0,0,0,0],[1,1,1,0,1,1,1],[0,0,0,0,0,0,0],[0,0,0,0,0,0,0],[0,0,0,0,0,0,0],[1,1,1,1,1,1,1],[0,0,0,0,0,0,0],[0,0,0,0,0,0,0],[0,0,0,0,0,0,0],[0,0,0,0,0,0,0],[0,0,0,0,0,0,0],[0,0,0,0,0,0,0],[0,0,0,0,0,0,0],[1,1,1,1,1,1,1],[0,0,0,0,0,0,0],[0,0,0,0,0,0,0],[0,0,0,0,0,0,0],[0,0,0,0,0,0,0],[0,0,0,0,0,0,0],[0,0,0,0,0,0,0],[1,1,1,1,1,1,1],[0,0,0,0,0,0,0],[1,1,1,1,1,1,1],[0,0,0,0,0,0,0],[0,0,0,0,0,0,0],[0,0,0,0,0,0,0],[0,0,0,0,0,0,0],[0,0,0,0,0,0,0],[0,0,0,0,0,0,0],[0,0,0,0,0,0,0],[0,0,0,0,0,0,0],[0,0,0,0,0,0,0],[0,0,0,0,0,0,0],[1,1,1,1,1,1,1],[0,0,0,0,0,0,0],[0,0,0,0,0,0,0],[1,1,1,1,1,1,1],[0,0,0,0,0,0,0],[0,0,0,0,0,0,0],[0,0,0,0,0,0,0],[1,1,1,1,1,1,1],[0,0,0,0,0,0,0],[0,0,0,0,0,0,0],[0,0,0,0,0,0,0],[0,0,0,0,0,0,0],[0,0,0,0,0,0,0],[0,0,0,0,0,0,0],[0,0,0,0,0,0,0],[0,0,0,0,0,0,0],[0,0,0,0,0,0,0],[0,0,0,0,0,0,0],[1,1,1,1,1,1,1],[0,0,0,0,0,0,0],[0,0,0,0,0,0,0],[1,1,1,1,1,1,1],[0,0,0,0,0,0,0],[0,0,0,0,0,0,0],[0,0,0,0,0,0,0],[1,1,1,1,0,0,1],[0,0,0,0,0,0,0],[1,1,1,1,1,1,1],[0,0,0,0,0,0,0],[0,0,0,0,0,0,0],[0,0,0,0,0,0,0],[0,0,0,0,0,0,0],[0,0,0,0,0,0,0],[0,0,0,0,0,0,0],[1,1,1,1,1,0,1],[0,0,0,0,0,0,0],[0,0,0,0,0,0,0],[0,0,0,0,0,0,0],[0,0,0,0,0,0,0],[0,0,0,0,0,0,0],[0,0,0,0,0,0,0],[1,1,1,0,1,0,0],[0,0,0,0,0,0,0],[1,1,0,0,1,1,1],[0,0,0,0,0,0,0],[0,0,0,0,0,0,0],[0,0,0,0,0,0,0],[0,0,0,0,0,0,0],[0,0,0,0,0,0,0],[0,0,0,0,0,0,0],[0,0,0,0,0,0,0],[0,0,0,0,0,0,0],[0,0,0,0,0,0,0],[0,0,0,0,0,0,0],[1,1,1,1,0,0,1],[0,0,0,0,0,0,0],[0,0,0,0,0,0,0],[1,1,1,0,1,1,1],[0,0,0,0,0,0,0],[0,0,0,0,0,0,0],[0,0,0,0,0,0,0],[1,1,1,1,1,1,1],[0,0,0,0,0,0,0],[0,0,0,0,0,0,0],[0,0,0,0,0,0,0],[0,0,0,0,0,0,0],[0,0,0,0,0,0,0],[0,0,0,0,0,0,0],[0,0,0,0,0,0,0],[0,0,0,0,0,0,0],[0,0,0,0,0,0,0],[0,0,0,0,0,0,0],[1,1,1,1,1,1,1],[0,0,0,0,0,0,0],[0,0,0,0,0,0,0],[1,1,1,1,1,1,1],[0,0,0,0,0,0,0],[0,0,0,0,0,0,0],[0,0,0,0,0,0,0],[1,1,1,1,1,1,1],[0,0,0,0,0,0,0],[0,0,0,0,0,0,0],[0,0,0,0,0,0,0],[0,0,0,0,0,0,0],[0,0,0,0,0,0,0],[0,0,0,0,0,0,0],[0,0,0,0,0,0,0],[1,1,1,1,1,1,1],[0,0,0,0,0,0,0],[0,0,0,0,0,0,0],[0,0,0,0,0,0,0],[0,0,0,0,0,0,0],[0,0,0,0,0,0,0],[0,0,0,0,0,0,0],[1,1,1,1,1,0,1],[0,0,0,0,0,0,0],[1,1,1,1,1,1,1],[0,0,0,0,0,0,0],[0,0,0,0,0,0,0],[0,0,0,0,0,0,0],[0,0,0,0,0,0,0],[0,0,0,0,0,0,0],[0,0,0,0,0,0,0]],\"type\":\"heatmap\"}],                        {\"template\":{\"data\":{\"histogram2dcontour\":[{\"type\":\"histogram2dcontour\",\"colorbar\":{\"outlinewidth\":0,\"ticks\":\"\"},\"colorscale\":[[0.0,\"#0d0887\"],[0.1111111111111111,\"#46039f\"],[0.2222222222222222,\"#7201a8\"],[0.3333333333333333,\"#9c179e\"],[0.4444444444444444,\"#bd3786\"],[0.5555555555555556,\"#d8576b\"],[0.6666666666666666,\"#ed7953\"],[0.7777777777777778,\"#fb9f3a\"],[0.8888888888888888,\"#fdca26\"],[1.0,\"#f0f921\"]]}],\"choropleth\":[{\"type\":\"choropleth\",\"colorbar\":{\"outlinewidth\":0,\"ticks\":\"\"}}],\"histogram2d\":[{\"type\":\"histogram2d\",\"colorbar\":{\"outlinewidth\":0,\"ticks\":\"\"},\"colorscale\":[[0.0,\"#0d0887\"],[0.1111111111111111,\"#46039f\"],[0.2222222222222222,\"#7201a8\"],[0.3333333333333333,\"#9c179e\"],[0.4444444444444444,\"#bd3786\"],[0.5555555555555556,\"#d8576b\"],[0.6666666666666666,\"#ed7953\"],[0.7777777777777778,\"#fb9f3a\"],[0.8888888888888888,\"#fdca26\"],[1.0,\"#f0f921\"]]}],\"heatmap\":[{\"type\":\"heatmap\",\"colorbar\":{\"outlinewidth\":0,\"ticks\":\"\"},\"colorscale\":[[0.0,\"#0d0887\"],[0.1111111111111111,\"#46039f\"],[0.2222222222222222,\"#7201a8\"],[0.3333333333333333,\"#9c179e\"],[0.4444444444444444,\"#bd3786\"],[0.5555555555555556,\"#d8576b\"],[0.6666666666666666,\"#ed7953\"],[0.7777777777777778,\"#fb9f3a\"],[0.8888888888888888,\"#fdca26\"],[1.0,\"#f0f921\"]]}],\"heatmapgl\":[{\"type\":\"heatmapgl\",\"colorbar\":{\"outlinewidth\":0,\"ticks\":\"\"},\"colorscale\":[[0.0,\"#0d0887\"],[0.1111111111111111,\"#46039f\"],[0.2222222222222222,\"#7201a8\"],[0.3333333333333333,\"#9c179e\"],[0.4444444444444444,\"#bd3786\"],[0.5555555555555556,\"#d8576b\"],[0.6666666666666666,\"#ed7953\"],[0.7777777777777778,\"#fb9f3a\"],[0.8888888888888888,\"#fdca26\"],[1.0,\"#f0f921\"]]}],\"contourcarpet\":[{\"type\":\"contourcarpet\",\"colorbar\":{\"outlinewidth\":0,\"ticks\":\"\"}}],\"contour\":[{\"type\":\"contour\",\"colorbar\":{\"outlinewidth\":0,\"ticks\":\"\"},\"colorscale\":[[0.0,\"#0d0887\"],[0.1111111111111111,\"#46039f\"],[0.2222222222222222,\"#7201a8\"],[0.3333333333333333,\"#9c179e\"],[0.4444444444444444,\"#bd3786\"],[0.5555555555555556,\"#d8576b\"],[0.6666666666666666,\"#ed7953\"],[0.7777777777777778,\"#fb9f3a\"],[0.8888888888888888,\"#fdca26\"],[1.0,\"#f0f921\"]]}],\"surface\":[{\"type\":\"surface\",\"colorbar\":{\"outlinewidth\":0,\"ticks\":\"\"},\"colorscale\":[[0.0,\"#0d0887\"],[0.1111111111111111,\"#46039f\"],[0.2222222222222222,\"#7201a8\"],[0.3333333333333333,\"#9c179e\"],[0.4444444444444444,\"#bd3786\"],[0.5555555555555556,\"#d8576b\"],[0.6666666666666666,\"#ed7953\"],[0.7777777777777778,\"#fb9f3a\"],[0.8888888888888888,\"#fdca26\"],[1.0,\"#f0f921\"]]}],\"mesh3d\":[{\"type\":\"mesh3d\",\"colorbar\":{\"outlinewidth\":0,\"ticks\":\"\"}}],\"scatter\":[{\"fillpattern\":{\"fillmode\":\"overlay\",\"size\":10,\"solidity\":0.2},\"type\":\"scatter\"}],\"parcoords\":[{\"type\":\"parcoords\",\"line\":{\"colorbar\":{\"outlinewidth\":0,\"ticks\":\"\"}}}],\"scatterpolargl\":[{\"type\":\"scatterpolargl\",\"marker\":{\"colorbar\":{\"outlinewidth\":0,\"ticks\":\"\"}}}],\"bar\":[{\"error_x\":{\"color\":\"#2a3f5f\"},\"error_y\":{\"color\":\"#2a3f5f\"},\"marker\":{\"line\":{\"color\":\"#E5ECF6\",\"width\":0.5},\"pattern\":{\"fillmode\":\"overlay\",\"size\":10,\"solidity\":0.2}},\"type\":\"bar\"}],\"scattergeo\":[{\"type\":\"scattergeo\",\"marker\":{\"colorbar\":{\"outlinewidth\":0,\"ticks\":\"\"}}}],\"scatterpolar\":[{\"type\":\"scatterpolar\",\"marker\":{\"colorbar\":{\"outlinewidth\":0,\"ticks\":\"\"}}}],\"histogram\":[{\"marker\":{\"pattern\":{\"fillmode\":\"overlay\",\"size\":10,\"solidity\":0.2}},\"type\":\"histogram\"}],\"scattergl\":[{\"type\":\"scattergl\",\"marker\":{\"colorbar\":{\"outlinewidth\":0,\"ticks\":\"\"}}}],\"scatter3d\":[{\"type\":\"scatter3d\",\"line\":{\"colorbar\":{\"outlinewidth\":0,\"ticks\":\"\"}},\"marker\":{\"colorbar\":{\"outlinewidth\":0,\"ticks\":\"\"}}}],\"scattermapbox\":[{\"type\":\"scattermapbox\",\"marker\":{\"colorbar\":{\"outlinewidth\":0,\"ticks\":\"\"}}}],\"scatterternary\":[{\"type\":\"scatterternary\",\"marker\":{\"colorbar\":{\"outlinewidth\":0,\"ticks\":\"\"}}}],\"scattercarpet\":[{\"type\":\"scattercarpet\",\"marker\":{\"colorbar\":{\"outlinewidth\":0,\"ticks\":\"\"}}}],\"carpet\":[{\"aaxis\":{\"endlinecolor\":\"#2a3f5f\",\"gridcolor\":\"white\",\"linecolor\":\"white\",\"minorgridcolor\":\"white\",\"startlinecolor\":\"#2a3f5f\"},\"baxis\":{\"endlinecolor\":\"#2a3f5f\",\"gridcolor\":\"white\",\"linecolor\":\"white\",\"minorgridcolor\":\"white\",\"startlinecolor\":\"#2a3f5f\"},\"type\":\"carpet\"}],\"table\":[{\"cells\":{\"fill\":{\"color\":\"#EBF0F8\"},\"line\":{\"color\":\"white\"}},\"header\":{\"fill\":{\"color\":\"#C8D4E3\"},\"line\":{\"color\":\"white\"}},\"type\":\"table\"}],\"barpolar\":[{\"marker\":{\"line\":{\"color\":\"#E5ECF6\",\"width\":0.5},\"pattern\":{\"fillmode\":\"overlay\",\"size\":10,\"solidity\":0.2}},\"type\":\"barpolar\"}],\"pie\":[{\"automargin\":true,\"type\":\"pie\"}]},\"layout\":{\"autotypenumbers\":\"strict\",\"colorway\":[\"#636efa\",\"#EF553B\",\"#00cc96\",\"#ab63fa\",\"#FFA15A\",\"#19d3f3\",\"#FF6692\",\"#B6E880\",\"#FF97FF\",\"#FECB52\"],\"font\":{\"color\":\"#2a3f5f\"},\"hovermode\":\"closest\",\"hoverlabel\":{\"align\":\"left\"},\"paper_bgcolor\":\"white\",\"plot_bgcolor\":\"#E5ECF6\",\"polar\":{\"bgcolor\":\"#E5ECF6\",\"angularaxis\":{\"gridcolor\":\"white\",\"linecolor\":\"white\",\"ticks\":\"\"},\"radialaxis\":{\"gridcolor\":\"white\",\"linecolor\":\"white\",\"ticks\":\"\"}},\"ternary\":{\"bgcolor\":\"#E5ECF6\",\"aaxis\":{\"gridcolor\":\"white\",\"linecolor\":\"white\",\"ticks\":\"\"},\"baxis\":{\"gridcolor\":\"white\",\"linecolor\":\"white\",\"ticks\":\"\"},\"caxis\":{\"gridcolor\":\"white\",\"linecolor\":\"white\",\"ticks\":\"\"}},\"coloraxis\":{\"colorbar\":{\"outlinewidth\":0,\"ticks\":\"\"}},\"colorscale\":{\"sequential\":[[0.0,\"#0d0887\"],[0.1111111111111111,\"#46039f\"],[0.2222222222222222,\"#7201a8\"],[0.3333333333333333,\"#9c179e\"],[0.4444444444444444,\"#bd3786\"],[0.5555555555555556,\"#d8576b\"],[0.6666666666666666,\"#ed7953\"],[0.7777777777777778,\"#fb9f3a\"],[0.8888888888888888,\"#fdca26\"],[1.0,\"#f0f921\"]],\"sequentialminus\":[[0.0,\"#0d0887\"],[0.1111111111111111,\"#46039f\"],[0.2222222222222222,\"#7201a8\"],[0.3333333333333333,\"#9c179e\"],[0.4444444444444444,\"#bd3786\"],[0.5555555555555556,\"#d8576b\"],[0.6666666666666666,\"#ed7953\"],[0.7777777777777778,\"#fb9f3a\"],[0.8888888888888888,\"#fdca26\"],[1.0,\"#f0f921\"]],\"diverging\":[[0,\"#8e0152\"],[0.1,\"#c51b7d\"],[0.2,\"#de77ae\"],[0.3,\"#f1b6da\"],[0.4,\"#fde0ef\"],[0.5,\"#f7f7f7\"],[0.6,\"#e6f5d0\"],[0.7,\"#b8e186\"],[0.8,\"#7fbc41\"],[0.9,\"#4d9221\"],[1,\"#276419\"]]},\"xaxis\":{\"gridcolor\":\"white\",\"linecolor\":\"white\",\"ticks\":\"\",\"title\":{\"standoff\":15},\"zerolinecolor\":\"white\",\"automargin\":true,\"zerolinewidth\":2},\"yaxis\":{\"gridcolor\":\"white\",\"linecolor\":\"white\",\"ticks\":\"\",\"title\":{\"standoff\":15},\"zerolinecolor\":\"white\",\"automargin\":true,\"zerolinewidth\":2},\"scene\":{\"xaxis\":{\"backgroundcolor\":\"#E5ECF6\",\"gridcolor\":\"white\",\"linecolor\":\"white\",\"showbackground\":true,\"ticks\":\"\",\"zerolinecolor\":\"white\",\"gridwidth\":2},\"yaxis\":{\"backgroundcolor\":\"#E5ECF6\",\"gridcolor\":\"white\",\"linecolor\":\"white\",\"showbackground\":true,\"ticks\":\"\",\"zerolinecolor\":\"white\",\"gridwidth\":2},\"zaxis\":{\"backgroundcolor\":\"#E5ECF6\",\"gridcolor\":\"white\",\"linecolor\":\"white\",\"showbackground\":true,\"ticks\":\"\",\"zerolinecolor\":\"white\",\"gridwidth\":2}},\"shapedefaults\":{\"line\":{\"color\":\"#2a3f5f\"}},\"annotationdefaults\":{\"arrowcolor\":\"#2a3f5f\",\"arrowhead\":0,\"arrowwidth\":1},\"geo\":{\"bgcolor\":\"white\",\"landcolor\":\"#E5ECF6\",\"subunitcolor\":\"white\",\"showland\":true,\"showlakes\":true,\"lakecolor\":\"white\"},\"title\":{\"x\":0.05},\"mapbox\":{\"style\":\"light\"}}}},                        {\"responsive\": true}                    ).then(function(){\n",
              "                            \n",
              "var gd = document.getElementById('15c0c739-0350-4edb-9c08-9132f26e2183');\n",
              "var x = new MutationObserver(function (mutations, observer) {{\n",
              "        var display = window.getComputedStyle(gd).display;\n",
              "        if (!display || display === 'none') {{\n",
              "            console.log([gd, 'removed!']);\n",
              "            Plotly.purge(gd);\n",
              "            observer.disconnect();\n",
              "        }}\n",
              "}});\n",
              "\n",
              "// Listen for the removal of the full notebook cells\n",
              "var notebookContainer = gd.closest('#notebook-container');\n",
              "if (notebookContainer) {{\n",
              "    x.observe(notebookContainer, {childList: true});\n",
              "}}\n",
              "\n",
              "// Listen for the clearing of the current output cell\n",
              "var outputEl = gd.closest('.output');\n",
              "if (outputEl) {{\n",
              "    x.observe(outputEl, {childList: true});\n",
              "}}\n",
              "\n",
              "                        })                };                            </script>        </div>\n",
              "</body>\n",
              "</html>"
            ]
          },
          "metadata": {}
        }
      ]
    },
    {
      "cell_type": "code",
      "source": [
        "df = df_raw.copy()\n",
        "df.drop(columns=['Name'], inplace=True)\n",
        "df.dropna(thresh=4, inplace=True) # On supprime les colonnes qui n'ont pas assez d'info\n",
        "\n",
        "######## 1. AGE\n",
        "df['DateOfBirth'] = pd.to_datetime(df['DateOfBirth'], errors='coerce', dayfirst=True)\n",
        "df['Age'] = (2025 - df['DateOfBirth'].dt.year)\n",
        "mean_age = df['Age'].mean() # On complete les ages NA avec la moyenne\n",
        "df['Age'] = df['Age'].fillna(mean_age).astype(int)\n",
        "\n",
        "df['is_young'] = [1 if age < 25 else 0 for age in df['Age']] # On crée des features one-hot\n",
        "df['is_old'] = [1 if age > 45 else 0 for age in df['Age']]\n",
        "df['is_middleaged'] = [1 if age >= 25 and age <= 45 else 0 for age in df['Age']]\n",
        "\n",
        "######## 2. GENDER\n",
        "df['Gender'] = df['Gender'].replace({\n",
        "    'Femal': 'Female'  # On standardise la colonne 'Gender'\n",
        "})\n",
        "\n",
        "######## 3. SYMPOMS, MEDICINE, CAUSES, DISEASE\n",
        "re1 = r\"shortness(\\s*of\\s*brea(th|t)?)?\"\n",
        "re2 = r'[a-z_-]*covid(-19)?_exposure[a-z_-]*'\n",
        "\n",
        "def process_row(row):\n",
        "    row = row.lower().split(',')\n",
        "    row = [re.sub(re1, 'shortness_of_breath', val) for val in row]\n",
        "    row = [val.replace(' ', '_') for val in row]\n",
        "    row = [re.sub(r'^e_', '', val) for val in row]\n",
        "    row = [val.lstrip('_') for val in row]\n",
        "    row = [val.rstrip('_') for val in row]\n",
        "    row = [val.rstrip('_o') for val in row]\n",
        "    row = [val.replace('on___', '') for val in row]\n",
        "    row = [re.sub(re2, 'covid_exposure', val) for val in row]\n",
        "    row = [re.sub(r'rheumatoid_arthrit(i|is)?', 'rheumatoid_arthritis', val) for val in row]\n",
        "    row = [val.replace('chronic_fatiguesyndrome', 'chronic_fatigue_syndrome') for val in row]\n",
        "    return row\n",
        "\n",
        "df['Symptoms'] = df['Symptoms'].apply(lambda x: process_row(x))\n",
        "df['Medicine'] = df['Medicine'].apply(lambda x: process_row(x))\n",
        "df['Causes'] = df['Causes'].apply(lambda x: process_row(x))\n",
        "df['Disease'] = df['Disease'].apply(lambda x: [x])\n",
        "\n",
        "def set_uncommon_to_other(series):\n",
        "    value_counts = series.explode().value_counts()\n",
        "    uncommon_values = value_counts[value_counts < 6].index.tolist()\n",
        "    series = series.apply(lambda x: ['other' if val in uncommon_values else val for val in x])\n",
        "    return series\n",
        "\n",
        "def set_rare_diseases_to_other(series):\n",
        "    value_counts = series.value_counts()\n",
        "    uncommon_values = value_counts[value_counts < 4].index.tolist()\n",
        "    series = series.apply(lambda x: 'other' if x in uncommon_values else x)\n",
        "    return series\n",
        "\n",
        "df[['Symptoms','Causes','Medicine','Disease']] = df[['Symptoms','Causes','Medicine','Disease']].apply(lambda x: set_uncommon_to_other(x), axis=0)\n",
        "#df[['Disease']] = df[['Disease']].apply(lambda x: set_rare_diseases_to_other(x), axis=0)"
      ],
      "metadata": {
        "id": "3uCS1L4MTtXS"
      },
      "execution_count": 6,
      "outputs": []
    },
    {
      "cell_type": "markdown",
      "source": [
        "# EDA"
      ],
      "metadata": {
        "id": "BtsjqaLhULxz"
      }
    },
    {
      "cell_type": "code",
      "source": [
        "# Analyse des fréquences\n",
        "top_diseases = df['Disease'].loc[lambda x: x != 'other'].value_counts().head(10)\n",
        "top_symptoms = df['Symptoms'].explode().loc[lambda x: x != 'other'].value_counts().head(10)\n",
        "top_medicines = df['Medicine'].explode().loc[lambda x: x != 'other'].value_counts().head(10)\n",
        "gender_distribution = df['Gender'].value_counts().head(10)\n",
        "\n",
        "# Crosstabs\n",
        "gender_disease = pd.crosstab(df['Gender'], df['Disease'])\n",
        "\n",
        "age_disease_table = df.groupby('Disease')[['is_young', 'is_middleaged', 'is_old']].sum()\n",
        "age_disease_table.columns = ['Young', 'Middle-aged', 'Old']\n",
        "\n",
        "# Create a subplot figure\n",
        "fig = make_subplots(\n",
        "    rows=3, cols=2,\n",
        "    subplot_titles=(\n",
        "        \"Top 10 maladies les plus fréquentes\",\n",
        "        \"Top 10 symptômes les plus fréquents\",\n",
        "        \"Top 10 médicaments les plus prescrits\",\n",
        "        \"Répartition par sexe\",\n",
        "        \"Sexe vs Maladies principales\",\n",
        "        \"Groupe d’âge vs Maladies principales\"\n",
        "    ),\n",
        "    specs=[[{\"type\": \"bar\"}, {\"type\": \"bar\"}],\n",
        "           [{\"type\": \"bar\"}, {\"type\": \"pie\"}],\n",
        "           [{\"type\": \"heatmap\"}, {\"type\": \"heatmap\"}]]\n",
        ")\n",
        "\n",
        "fig.add_trace(go.Bar(x=top_diseases.values, y=top_diseases.index, orientation='h', marker=dict(color='blue')), row=1, col=1)\n",
        "fig.add_trace(go.Bar(x=top_symptoms.values, y=top_symptoms.index, orientation='h', marker=dict(color='red')), row=1, col=2)\n",
        "fig.add_trace(go.Bar(x=top_medicines.values, y=top_medicines.index, orientation='h', marker=dict(color='green')), row=2, col=1)\n",
        "fig.add_trace(go.Pie(text=gender_distribution.index, values=gender_distribution.values, hole=0.4), row=2, col=2)\n",
        "fig.add_trace(go.Heatmap(\n",
        "        z=gender_disease.loc[:, gender_disease.sum().sort_values(ascending=False).head(5).index].values,\n",
        "        x=gender_disease.columns[:5],\n",
        "        y=gender_disease.index,\n",
        "        colorscale=px.colors.sequential.Plasma,\n",
        "        showscale=False, text=gender_disease.loc[:, gender_disease.sum().sort_values(ascending=False).head(5).index].values,\n",
        "        texttemplate=\"%{text}\", hovertemplate=None), row=3, col=1)\n",
        "\n",
        "# 6. Groupe d’âge vs maladies principales\n",
        "fig.add_trace(go.Heatmap(\n",
        "        z=age_disease_table.values,\n",
        "        x=age_disease_table.columns,\n",
        "        y=age_disease_table.index,\n",
        "        colorscale=px.colors.sequential.Plasma,\n",
        "        showscale=False, text=age_disease_table.values,\n",
        "        texttemplate=\"%{text}\", hovertemplate=None), row=3, col=2)\n",
        "\n",
        "# Update layout\n",
        "fig.update_layout(\n",
        "    height=900, width=1200,\n",
        "    title_text=\"Visualisation des données\",\n",
        "    showlegend=False\n",
        ")\n",
        "\n",
        "fig.show()"
      ],
      "metadata": {
        "colab": {
          "base_uri": "https://localhost:8080/",
          "height": 937
        },
        "id": "jfcGCoyFVicW",
        "outputId": "e90ebe46-e03f-4b8c-b969-17dfcbb49b99"
      },
      "execution_count": null,
      "outputs": [
        {
          "output_type": "display_data",
          "data": {
            "text/html": [
              "<html>\n",
              "<head><meta charset=\"utf-8\" /></head>\n",
              "<body>\n",
              "    <div>            <script src=\"https://cdnjs.cloudflare.com/ajax/libs/mathjax/2.7.5/MathJax.js?config=TeX-AMS-MML_SVG\"></script><script type=\"text/javascript\">if (window.MathJax && window.MathJax.Hub && window.MathJax.Hub.Config) {window.MathJax.Hub.Config({SVG: {font: \"STIX-Web\"}});}</script>                <script type=\"text/javascript\">window.PlotlyConfig = {MathJaxConfig: 'local'};</script>\n",
              "        <script charset=\"utf-8\" src=\"https://cdn.plot.ly/plotly-2.35.2.min.js\"></script>                <div id=\"6968ec24-de76-45cf-b52e-1304946b412e\" class=\"plotly-graph-div\" style=\"height:900px; width:1200px;\"></div>            <script type=\"text/javascript\">                                    window.PLOTLYENV=window.PLOTLYENV || {};                                    if (document.getElementById(\"6968ec24-de76-45cf-b52e-1304946b412e\")) {                    Plotly.newPlot(                        \"6968ec24-de76-45cf-b52e-1304946b412e\",                        [{\"marker\":{\"color\":\"blue\"},\"orientation\":\"h\",\"x\":[20,13,12,12,11,10,10,9,9,9],\"y\":[\"Gastroenteritis\",\"Chronic Fatigue Syndrome\",\"Pneumonia\",\"Arthritis\",\"Motion Sickness\",\"Muscle Overuse\",\"Tonsillitis\",\"Allergic Reaction\",\"Muscle Strain\",\"COVID-19\"],\"type\":\"bar\",\"xaxis\":\"x\",\"yaxis\":\"y\"},{\"marker\":{\"color\":\"red\"},\"orientation\":\"h\",\"x\":[54,33,31,29,23,21,18,18,18,17],\"y\":[\"fatigue\",\"shortness_of_breath\",\"fever\",\"nausea\",\"weakness\",\"cough\",\"joint_pain\",\"headache\",\"dizziness\",\"chest_pain\"],\"type\":\"bar\",\"xaxis\":\"x2\",\"yaxis\":\"y2\"},{\"marker\":{\"color\":\"green\"},\"orientation\":\"h\",\"x\":[84,29,26,21,18,13,11,11,11,10],\"y\":[\"rest\",\"fluids\",\"pain_relievers\",\"nsaids\",\"lifestyle\",\"antibiotics\",\"oral_rehydration\",\"dimenhydrinate\",\"antihistamine\",\"stretching\"],\"type\":\"bar\",\"xaxis\":\"x3\",\"yaxis\":\"y3\"},{\"hole\":0.4,\"text\":[\"Female\",\"Male\"],\"values\":[125,116],\"type\":\"pie\",\"domain\":{\"x\":[0.55,1.0],\"y\":[0.3888888888888889,0.6111111111111112]}},{\"colorscale\":[[0.0,\"#0d0887\"],[0.1111111111111111,\"#46039f\"],[0.2222222222222222,\"#7201a8\"],[0.3333333333333333,\"#9c179e\"],[0.4444444444444444,\"#bd3786\"],[0.5555555555555556,\"#d8576b\"],[0.6666666666666666,\"#ed7953\"],[0.7777777777777778,\"#fb9f3a\"],[0.8888888888888888,\"#fdca26\"],[1.0,\"#f0f921\"]],\"showscale\":false,\"text\":[[24,9,13,0,12],[27,11,0,12,0]],\"texttemplate\":\"%{text}\",\"x\":[\"Allergic Reaction\",\"Anxiety Disorder\",\"Arthritis\",\"COVID-19\",\"Chronic Fatigue\"],\"y\":[\"Female\",\"Male\"],\"z\":[[24,9,13,0,12],[27,11,0,12,0]],\"type\":\"heatmap\",\"xaxis\":\"x4\",\"yaxis\":\"y4\"},{\"colorscale\":[[0.0,\"#0d0887\"],[0.1111111111111111,\"#46039f\"],[0.2222222222222222,\"#7201a8\"],[0.3333333333333333,\"#9c179e\"],[0.4444444444444444,\"#bd3786\"],[0.5555555555555556,\"#d8576b\"],[0.6666666666666666,\"#ed7953\"],[0.7777777777777778,\"#fb9f3a\"],[0.8888888888888888,\"#fdca26\"],[1.0,\"#f0f921\"]],\"showscale\":false,\"text\":[[0,9,0],[0,9,0],[0,11,1],[0,9,0],[0,2,3],[0,7,6],[0,4,0],[9,11,0],[2,2,0],[0,0,9],[0,7,0],[0,4,0],[4,0,0],[0,11,0],[10,0,0],[0,0,9],[0,4,0],[0,12,0],[0,0,4],[2,2,0],[0,4,0],[0,4,0],[3,7,0],[0,9,0],[6,32,13]],\"texttemplate\":\"%{text}\",\"x\":[\"Young\",\"Middle-aged\",\"Old\"],\"y\":[\"Allergic Reaction\",\"Anxiety Disorder\",\"Arthritis\",\"COVID-19\",\"Chronic Fatigue\",\"Chronic Fatigue Syndrome\",\"Dermatitis\",\"Gastroenteritis\",\"Heat Exhaustion\",\"Herniated Disc\",\"Indigestion\",\"Iron Deficiency\",\"Menstrual Cramps\",\"Motion Sickness\",\"Muscle Overuse\",\"Muscle Strain\",\"Panic Disorder\",\"Pneumonia\",\"Sleep Apnea\",\"Strep Throat\",\"Tension Headache\",\"Thyroid Disorder\",\"Tonsillitis\",\"Vision Fatigue\",\"other\"],\"z\":[[0,9,0],[0,9,0],[0,11,1],[0,9,0],[0,2,3],[0,7,6],[0,4,0],[9,11,0],[2,2,0],[0,0,9],[0,7,0],[0,4,0],[4,0,0],[0,11,0],[10,0,0],[0,0,9],[0,4,0],[0,12,0],[0,0,4],[2,2,0],[0,4,0],[0,4,0],[3,7,0],[0,9,0],[6,32,13]],\"type\":\"heatmap\",\"xaxis\":\"x5\",\"yaxis\":\"y5\"}],                        {\"template\":{\"data\":{\"histogram2dcontour\":[{\"type\":\"histogram2dcontour\",\"colorbar\":{\"outlinewidth\":0,\"ticks\":\"\"},\"colorscale\":[[0.0,\"#0d0887\"],[0.1111111111111111,\"#46039f\"],[0.2222222222222222,\"#7201a8\"],[0.3333333333333333,\"#9c179e\"],[0.4444444444444444,\"#bd3786\"],[0.5555555555555556,\"#d8576b\"],[0.6666666666666666,\"#ed7953\"],[0.7777777777777778,\"#fb9f3a\"],[0.8888888888888888,\"#fdca26\"],[1.0,\"#f0f921\"]]}],\"choropleth\":[{\"type\":\"choropleth\",\"colorbar\":{\"outlinewidth\":0,\"ticks\":\"\"}}],\"histogram2d\":[{\"type\":\"histogram2d\",\"colorbar\":{\"outlinewidth\":0,\"ticks\":\"\"},\"colorscale\":[[0.0,\"#0d0887\"],[0.1111111111111111,\"#46039f\"],[0.2222222222222222,\"#7201a8\"],[0.3333333333333333,\"#9c179e\"],[0.4444444444444444,\"#bd3786\"],[0.5555555555555556,\"#d8576b\"],[0.6666666666666666,\"#ed7953\"],[0.7777777777777778,\"#fb9f3a\"],[0.8888888888888888,\"#fdca26\"],[1.0,\"#f0f921\"]]}],\"heatmap\":[{\"type\":\"heatmap\",\"colorbar\":{\"outlinewidth\":0,\"ticks\":\"\"},\"colorscale\":[[0.0,\"#0d0887\"],[0.1111111111111111,\"#46039f\"],[0.2222222222222222,\"#7201a8\"],[0.3333333333333333,\"#9c179e\"],[0.4444444444444444,\"#bd3786\"],[0.5555555555555556,\"#d8576b\"],[0.6666666666666666,\"#ed7953\"],[0.7777777777777778,\"#fb9f3a\"],[0.8888888888888888,\"#fdca26\"],[1.0,\"#f0f921\"]]}],\"heatmapgl\":[{\"type\":\"heatmapgl\",\"colorbar\":{\"outlinewidth\":0,\"ticks\":\"\"},\"colorscale\":[[0.0,\"#0d0887\"],[0.1111111111111111,\"#46039f\"],[0.2222222222222222,\"#7201a8\"],[0.3333333333333333,\"#9c179e\"],[0.4444444444444444,\"#bd3786\"],[0.5555555555555556,\"#d8576b\"],[0.6666666666666666,\"#ed7953\"],[0.7777777777777778,\"#fb9f3a\"],[0.8888888888888888,\"#fdca26\"],[1.0,\"#f0f921\"]]}],\"contourcarpet\":[{\"type\":\"contourcarpet\",\"colorbar\":{\"outlinewidth\":0,\"ticks\":\"\"}}],\"contour\":[{\"type\":\"contour\",\"colorbar\":{\"outlinewidth\":0,\"ticks\":\"\"},\"colorscale\":[[0.0,\"#0d0887\"],[0.1111111111111111,\"#46039f\"],[0.2222222222222222,\"#7201a8\"],[0.3333333333333333,\"#9c179e\"],[0.4444444444444444,\"#bd3786\"],[0.5555555555555556,\"#d8576b\"],[0.6666666666666666,\"#ed7953\"],[0.7777777777777778,\"#fb9f3a\"],[0.8888888888888888,\"#fdca26\"],[1.0,\"#f0f921\"]]}],\"surface\":[{\"type\":\"surface\",\"colorbar\":{\"outlinewidth\":0,\"ticks\":\"\"},\"colorscale\":[[0.0,\"#0d0887\"],[0.1111111111111111,\"#46039f\"],[0.2222222222222222,\"#7201a8\"],[0.3333333333333333,\"#9c179e\"],[0.4444444444444444,\"#bd3786\"],[0.5555555555555556,\"#d8576b\"],[0.6666666666666666,\"#ed7953\"],[0.7777777777777778,\"#fb9f3a\"],[0.8888888888888888,\"#fdca26\"],[1.0,\"#f0f921\"]]}],\"mesh3d\":[{\"type\":\"mesh3d\",\"colorbar\":{\"outlinewidth\":0,\"ticks\":\"\"}}],\"scatter\":[{\"fillpattern\":{\"fillmode\":\"overlay\",\"size\":10,\"solidity\":0.2},\"type\":\"scatter\"}],\"parcoords\":[{\"type\":\"parcoords\",\"line\":{\"colorbar\":{\"outlinewidth\":0,\"ticks\":\"\"}}}],\"scatterpolargl\":[{\"type\":\"scatterpolargl\",\"marker\":{\"colorbar\":{\"outlinewidth\":0,\"ticks\":\"\"}}}],\"bar\":[{\"error_x\":{\"color\":\"#2a3f5f\"},\"error_y\":{\"color\":\"#2a3f5f\"},\"marker\":{\"line\":{\"color\":\"#E5ECF6\",\"width\":0.5},\"pattern\":{\"fillmode\":\"overlay\",\"size\":10,\"solidity\":0.2}},\"type\":\"bar\"}],\"scattergeo\":[{\"type\":\"scattergeo\",\"marker\":{\"colorbar\":{\"outlinewidth\":0,\"ticks\":\"\"}}}],\"scatterpolar\":[{\"type\":\"scatterpolar\",\"marker\":{\"colorbar\":{\"outlinewidth\":0,\"ticks\":\"\"}}}],\"histogram\":[{\"marker\":{\"pattern\":{\"fillmode\":\"overlay\",\"size\":10,\"solidity\":0.2}},\"type\":\"histogram\"}],\"scattergl\":[{\"type\":\"scattergl\",\"marker\":{\"colorbar\":{\"outlinewidth\":0,\"ticks\":\"\"}}}],\"scatter3d\":[{\"type\":\"scatter3d\",\"line\":{\"colorbar\":{\"outlinewidth\":0,\"ticks\":\"\"}},\"marker\":{\"colorbar\":{\"outlinewidth\":0,\"ticks\":\"\"}}}],\"scattermapbox\":[{\"type\":\"scattermapbox\",\"marker\":{\"colorbar\":{\"outlinewidth\":0,\"ticks\":\"\"}}}],\"scatterternary\":[{\"type\":\"scatterternary\",\"marker\":{\"colorbar\":{\"outlinewidth\":0,\"ticks\":\"\"}}}],\"scattercarpet\":[{\"type\":\"scattercarpet\",\"marker\":{\"colorbar\":{\"outlinewidth\":0,\"ticks\":\"\"}}}],\"carpet\":[{\"aaxis\":{\"endlinecolor\":\"#2a3f5f\",\"gridcolor\":\"white\",\"linecolor\":\"white\",\"minorgridcolor\":\"white\",\"startlinecolor\":\"#2a3f5f\"},\"baxis\":{\"endlinecolor\":\"#2a3f5f\",\"gridcolor\":\"white\",\"linecolor\":\"white\",\"minorgridcolor\":\"white\",\"startlinecolor\":\"#2a3f5f\"},\"type\":\"carpet\"}],\"table\":[{\"cells\":{\"fill\":{\"color\":\"#EBF0F8\"},\"line\":{\"color\":\"white\"}},\"header\":{\"fill\":{\"color\":\"#C8D4E3\"},\"line\":{\"color\":\"white\"}},\"type\":\"table\"}],\"barpolar\":[{\"marker\":{\"line\":{\"color\":\"#E5ECF6\",\"width\":0.5},\"pattern\":{\"fillmode\":\"overlay\",\"size\":10,\"solidity\":0.2}},\"type\":\"barpolar\"}],\"pie\":[{\"automargin\":true,\"type\":\"pie\"}]},\"layout\":{\"autotypenumbers\":\"strict\",\"colorway\":[\"#636efa\",\"#EF553B\",\"#00cc96\",\"#ab63fa\",\"#FFA15A\",\"#19d3f3\",\"#FF6692\",\"#B6E880\",\"#FF97FF\",\"#FECB52\"],\"font\":{\"color\":\"#2a3f5f\"},\"hovermode\":\"closest\",\"hoverlabel\":{\"align\":\"left\"},\"paper_bgcolor\":\"white\",\"plot_bgcolor\":\"#E5ECF6\",\"polar\":{\"bgcolor\":\"#E5ECF6\",\"angularaxis\":{\"gridcolor\":\"white\",\"linecolor\":\"white\",\"ticks\":\"\"},\"radialaxis\":{\"gridcolor\":\"white\",\"linecolor\":\"white\",\"ticks\":\"\"}},\"ternary\":{\"bgcolor\":\"#E5ECF6\",\"aaxis\":{\"gridcolor\":\"white\",\"linecolor\":\"white\",\"ticks\":\"\"},\"baxis\":{\"gridcolor\":\"white\",\"linecolor\":\"white\",\"ticks\":\"\"},\"caxis\":{\"gridcolor\":\"white\",\"linecolor\":\"white\",\"ticks\":\"\"}},\"coloraxis\":{\"colorbar\":{\"outlinewidth\":0,\"ticks\":\"\"}},\"colorscale\":{\"sequential\":[[0.0,\"#0d0887\"],[0.1111111111111111,\"#46039f\"],[0.2222222222222222,\"#7201a8\"],[0.3333333333333333,\"#9c179e\"],[0.4444444444444444,\"#bd3786\"],[0.5555555555555556,\"#d8576b\"],[0.6666666666666666,\"#ed7953\"],[0.7777777777777778,\"#fb9f3a\"],[0.8888888888888888,\"#fdca26\"],[1.0,\"#f0f921\"]],\"sequentialminus\":[[0.0,\"#0d0887\"],[0.1111111111111111,\"#46039f\"],[0.2222222222222222,\"#7201a8\"],[0.3333333333333333,\"#9c179e\"],[0.4444444444444444,\"#bd3786\"],[0.5555555555555556,\"#d8576b\"],[0.6666666666666666,\"#ed7953\"],[0.7777777777777778,\"#fb9f3a\"],[0.8888888888888888,\"#fdca26\"],[1.0,\"#f0f921\"]],\"diverging\":[[0,\"#8e0152\"],[0.1,\"#c51b7d\"],[0.2,\"#de77ae\"],[0.3,\"#f1b6da\"],[0.4,\"#fde0ef\"],[0.5,\"#f7f7f7\"],[0.6,\"#e6f5d0\"],[0.7,\"#b8e186\"],[0.8,\"#7fbc41\"],[0.9,\"#4d9221\"],[1,\"#276419\"]]},\"xaxis\":{\"gridcolor\":\"white\",\"linecolor\":\"white\",\"ticks\":\"\",\"title\":{\"standoff\":15},\"zerolinecolor\":\"white\",\"automargin\":true,\"zerolinewidth\":2},\"yaxis\":{\"gridcolor\":\"white\",\"linecolor\":\"white\",\"ticks\":\"\",\"title\":{\"standoff\":15},\"zerolinecolor\":\"white\",\"automargin\":true,\"zerolinewidth\":2},\"scene\":{\"xaxis\":{\"backgroundcolor\":\"#E5ECF6\",\"gridcolor\":\"white\",\"linecolor\":\"white\",\"showbackground\":true,\"ticks\":\"\",\"zerolinecolor\":\"white\",\"gridwidth\":2},\"yaxis\":{\"backgroundcolor\":\"#E5ECF6\",\"gridcolor\":\"white\",\"linecolor\":\"white\",\"showbackground\":true,\"ticks\":\"\",\"zerolinecolor\":\"white\",\"gridwidth\":2},\"zaxis\":{\"backgroundcolor\":\"#E5ECF6\",\"gridcolor\":\"white\",\"linecolor\":\"white\",\"showbackground\":true,\"ticks\":\"\",\"zerolinecolor\":\"white\",\"gridwidth\":2}},\"shapedefaults\":{\"line\":{\"color\":\"#2a3f5f\"}},\"annotationdefaults\":{\"arrowcolor\":\"#2a3f5f\",\"arrowhead\":0,\"arrowwidth\":1},\"geo\":{\"bgcolor\":\"white\",\"landcolor\":\"#E5ECF6\",\"subunitcolor\":\"white\",\"showland\":true,\"showlakes\":true,\"lakecolor\":\"white\"},\"title\":{\"x\":0.05},\"mapbox\":{\"style\":\"light\"}}},\"xaxis\":{\"anchor\":\"y\",\"domain\":[0.0,0.45]},\"yaxis\":{\"anchor\":\"x\",\"domain\":[0.7777777777777778,1.0]},\"xaxis2\":{\"anchor\":\"y2\",\"domain\":[0.55,1.0]},\"yaxis2\":{\"anchor\":\"x2\",\"domain\":[0.7777777777777778,1.0]},\"xaxis3\":{\"anchor\":\"y3\",\"domain\":[0.0,0.45]},\"yaxis3\":{\"anchor\":\"x3\",\"domain\":[0.3888888888888889,0.6111111111111112]},\"xaxis4\":{\"anchor\":\"y4\",\"domain\":[0.0,0.45]},\"yaxis4\":{\"anchor\":\"x4\",\"domain\":[0.0,0.22222222222222224]},\"xaxis5\":{\"anchor\":\"y5\",\"domain\":[0.55,1.0]},\"yaxis5\":{\"anchor\":\"x5\",\"domain\":[0.0,0.22222222222222224]},\"annotations\":[{\"font\":{\"size\":16},\"showarrow\":false,\"text\":\"Top 10 maladies les plus fréquentes\",\"x\":0.225,\"xanchor\":\"center\",\"xref\":\"paper\",\"y\":1.0,\"yanchor\":\"bottom\",\"yref\":\"paper\"},{\"font\":{\"size\":16},\"showarrow\":false,\"text\":\"Top 10 symptômes les plus fréquents\",\"x\":0.775,\"xanchor\":\"center\",\"xref\":\"paper\",\"y\":1.0,\"yanchor\":\"bottom\",\"yref\":\"paper\"},{\"font\":{\"size\":16},\"showarrow\":false,\"text\":\"Top 10 médicaments les plus prescrits\",\"x\":0.225,\"xanchor\":\"center\",\"xref\":\"paper\",\"y\":0.6111111111111112,\"yanchor\":\"bottom\",\"yref\":\"paper\"},{\"font\":{\"size\":16},\"showarrow\":false,\"text\":\"Répartition par sexe\",\"x\":0.775,\"xanchor\":\"center\",\"xref\":\"paper\",\"y\":0.6111111111111112,\"yanchor\":\"bottom\",\"yref\":\"paper\"},{\"font\":{\"size\":16},\"showarrow\":false,\"text\":\"Sexe vs Maladies principales\",\"x\":0.225,\"xanchor\":\"center\",\"xref\":\"paper\",\"y\":0.22222222222222224,\"yanchor\":\"bottom\",\"yref\":\"paper\"},{\"font\":{\"size\":16},\"showarrow\":false,\"text\":\"Groupe d’âge vs Maladies principales\",\"x\":0.775,\"xanchor\":\"center\",\"xref\":\"paper\",\"y\":0.22222222222222224,\"yanchor\":\"bottom\",\"yref\":\"paper\"}],\"title\":{\"text\":\"Visualisation des données\"},\"height\":900,\"width\":1200,\"showlegend\":false},                        {\"responsive\": true}                    ).then(function(){\n",
              "                            \n",
              "var gd = document.getElementById('6968ec24-de76-45cf-b52e-1304946b412e');\n",
              "var x = new MutationObserver(function (mutations, observer) {{\n",
              "        var display = window.getComputedStyle(gd).display;\n",
              "        if (!display || display === 'none') {{\n",
              "            console.log([gd, 'removed!']);\n",
              "            Plotly.purge(gd);\n",
              "            observer.disconnect();\n",
              "        }}\n",
              "}});\n",
              "\n",
              "// Listen for the removal of the full notebook cells\n",
              "var notebookContainer = gd.closest('#notebook-container');\n",
              "if (notebookContainer) {{\n",
              "    x.observe(notebookContainer, {childList: true});\n",
              "}}\n",
              "\n",
              "// Listen for the clearing of the current output cell\n",
              "var outputEl = gd.closest('.output');\n",
              "if (outputEl) {{\n",
              "    x.observe(outputEl, {childList: true});\n",
              "}}\n",
              "\n",
              "                        })                };                            </script>        </div>\n",
              "</body>\n",
              "</html>"
            ]
          },
          "metadata": {}
        }
      ]
    },
    {
      "cell_type": "markdown",
      "source": [
        "# Kmeans"
      ],
      "metadata": {
        "id": "9qgRJqwu-dyH"
      }
    },
    {
      "cell_type": "code",
      "source": [
        "#Define functions\n",
        "def train_kmeans(X, nb_clusters, mlbs):\n",
        "    mlbs = train_binarizers(X, mlbs)\n",
        "    X_transformed = encode_features(X, mlbs)\n",
        "    kmeans = KMeans(n_clusters=nb_clusters, random_state=113)\n",
        "    kmeans.fit(X_transformed)\n",
        "    clusters = kmeans.labels_\n",
        "    return kmeans, mlbs, clusters\n",
        "\n",
        "def infer_kmeans(X, kmeans, mlbs):\n",
        "    X_transformed = encode_features(X, mlbs)\n",
        "    clusters = kmeans.predict(X_transformed)\n",
        "    return clusters\n",
        "\n",
        "def score_kmeans(nb_clusters, X_train, X_test, mlbs):\n",
        "    kmeans, mlbs, clusters_train = train_kmeans(X_train, nb_clusters, mlbs)\n",
        "    clusters_test = infer_kmeans(X_test, kmeans, mlbs)\n",
        "    score_train = silhouette_score(encode_features(X_train, mlbs), clusters_train)\n",
        "    score_test = silhouette_score(encode_features(X_test, mlbs), clusters_test)\n",
        "    scores = [score_train, score_test]\n",
        "    return scores"
      ],
      "metadata": {
        "id": "GginQ7KEuEtQ"
      },
      "execution_count": 41,
      "outputs": []
    },
    {
      "cell_type": "code",
      "source": [
        "#Initialisation et recherche du meilleur nb de clusters\n",
        "X_train, X_test = train_test_split(df[['Symptoms', 'Disease', 'Causes', 'Medicine']],\n",
        "                                   test_size=0.2, random_state=113)\n",
        "mlb_disease = MultiLabelBinarizer()\n",
        "mlb_symptoms = MultiLabelBinarizer()\n",
        "mlb_causes = MultiLabelBinarizer()\n",
        "mlbs = [mlb_disease, mlb_symptoms, mlb_causes]\n",
        "\n",
        "scores = {}\n",
        "for i in range(2, 20):\n",
        "    scores[i] = score_kmeans(i, X_train, X_test, mlbs)\n",
        "print(scores)\n",
        "\n",
        "kmeans, mlbs, clusters_train = train_kmeans(X_train, 15, mlbs)\n",
        "clusters_test = infer_kmeans(X_test, kmeans, mlbs)"
      ],
      "metadata": {
        "colab": {
          "base_uri": "https://localhost:8080/"
        },
        "id": "GbDo455Z9U1_",
        "outputId": "3d92b636-f5f0-4f2b-a925-dc17df1a9711"
      },
      "execution_count": 43,
      "outputs": [
        {
          "output_type": "stream",
          "name": "stdout",
          "text": [
            "{2: [np.float64(0.11877327036291335), np.float64(0.1165030655380192)], 3: [np.float64(0.14657375103070755), np.float64(0.160328507989064)], 4: [np.float64(0.19573892881869356), np.float64(0.19186502914932874)], 5: [np.float64(0.23323481015007919), np.float64(0.2075622689727798)], 6: [np.float64(0.270740549803389), np.float64(0.2640492249443905)], 7: [np.float64(0.28232179922119954), np.float64(0.17426710194510558)], 8: [np.float64(0.32007310326681315), np.float64(0.20565804037161187)], 9: [np.float64(0.36190789999806433), np.float64(0.2207109042470533)], 10: [np.float64(0.4036817721051415), np.float64(0.21895381944645798)], 11: [np.float64(0.42341065600756905), np.float64(0.29942581906326626)], 12: [np.float64(0.4568453888581027), np.float64(0.3464054876941432)], 13: [np.float64(0.4969831257867126), np.float64(0.40352624451705055)], 14: [np.float64(0.5334882459680306), np.float64(0.47745657834543326)], 15: [np.float64(0.5656284394953541), np.float64(0.4826981190967035)], 16: [np.float64(0.5960187149226631), np.float64(0.5861319209535385)], 17: [np.float64(0.6309420153625057), np.float64(0.5954100124752255)], 18: [np.float64(0.6592224324043569), np.float64(0.6086237596832884)], 19: [np.float64(0.6867243620040667), np.float64(0.6086237596832884)]}\n"
          ]
        }
      ]
    },
    {
      "cell_type": "code",
      "source": [
        "#Extraction du meilleur médicamment pour chaque cluster\n",
        "X_train['Cluster'] = clusters_train\n",
        "\n",
        "cluster_top_medecine = {}\n",
        "\n",
        "for cluster in range(15):\n",
        "    cluster_df = X_train[X_train['Cluster'] == cluster]\n",
        "    nb_patients = len(cluster_df)\n",
        "    top_medicine = cluster_df['Medicine'].explode().value_counts().head(1).index[0]\n",
        "    cluster_top_medecine[cluster] = top_medicine\n",
        "    print(f\"Cluster {cluster}: {top_medicine} - {nb_patients} patients\")"
      ],
      "metadata": {
        "colab": {
          "base_uri": "https://localhost:8080/"
        },
        "id": "5lMlyS_8lguy",
        "outputId": "c8e8a210-0b46-42ae-d956-a2c8b8f4272f"
      },
      "execution_count": 33,
      "outputs": [
        {
          "output_type": "stream",
          "name": "stdout",
          "text": [
            "Cluster 0: nsaids - 13 patients\n",
            "Cluster 1: other - 18 patients\n",
            "Cluster 2: dimenhydrinate - 11 patients\n",
            "Cluster 3: oral_rehydration - 18 patients\n",
            "Cluster 4: other - 38 patients\n",
            "Cluster 5: antibiotics - 10 patients\n",
            "Cluster 6: rest - 13 patients\n",
            "Cluster 7: antihistamine - 10 patients\n",
            "Cluster 8: rest - 8 patients\n",
            "Cluster 9: pain_relievers - 8 patients\n",
            "Cluster 10: rest - 5 patients\n",
            "Cluster 11: therapy - 12 patients\n",
            "Cluster 12: rest - 14 patients\n",
            "Cluster 13: eye_exercises - 7 patients\n",
            "Cluster 14: antacids - 7 patients\n"
          ]
        }
      ]
    },
    {
      "cell_type": "code",
      "source": [
        "#Evaluation sur le test set\n",
        "X_test['Cluster'] = clusters_test\n",
        "X_test['Cluster_medicine'] = X_test['Cluster'].map(cluster_top_medecine)\n",
        "\n",
        "def calculate_precision_recall(row):\n",
        "    value = 'No'\n",
        "    for i in range(len(row['Medicine'])):\n",
        "      if row['Medicine'][i] == row['Cluster_medicine']:\n",
        "        value = 'Yes'\n",
        "    return value\n",
        "\n",
        "X_test['Predicted_Medicine_Is_Correct'] = X_test.apply(calculate_precision_recall, axis=1)\n",
        "X_test['Predicted_Medicine_Is_Correct'].value_counts()"
      ],
      "metadata": {
        "colab": {
          "base_uri": "https://localhost:8080/",
          "height": 178
        },
        "id": "uwB2EwEFnjNI",
        "outputId": "a2b985f9-eb74-4a9b-94d7-59b7c34de7e3"
      },
      "execution_count": 34,
      "outputs": [
        {
          "output_type": "execute_result",
          "data": {
            "text/plain": [
              "Predicted_Medicine_Is_Correct\n",
              "Yes    42\n",
              "No      7\n",
              "Name: count, dtype: int64"
            ],
            "text/html": [
              "<div>\n",
              "<style scoped>\n",
              "    .dataframe tbody tr th:only-of-type {\n",
              "        vertical-align: middle;\n",
              "    }\n",
              "\n",
              "    .dataframe tbody tr th {\n",
              "        vertical-align: top;\n",
              "    }\n",
              "\n",
              "    .dataframe thead th {\n",
              "        text-align: right;\n",
              "    }\n",
              "</style>\n",
              "<table border=\"1\" class=\"dataframe\">\n",
              "  <thead>\n",
              "    <tr style=\"text-align: right;\">\n",
              "      <th></th>\n",
              "      <th>count</th>\n",
              "    </tr>\n",
              "    <tr>\n",
              "      <th>Predicted_Medicine_Is_Correct</th>\n",
              "      <th></th>\n",
              "    </tr>\n",
              "  </thead>\n",
              "  <tbody>\n",
              "    <tr>\n",
              "      <th>Yes</th>\n",
              "      <td>42</td>\n",
              "    </tr>\n",
              "    <tr>\n",
              "      <th>No</th>\n",
              "      <td>7</td>\n",
              "    </tr>\n",
              "  </tbody>\n",
              "</table>\n",
              "</div><br><label><b>dtype:</b> int64</label>"
            ]
          },
          "metadata": {},
          "execution_count": 34
        }
      ]
    },
    {
      "cell_type": "code",
      "source": [
        "#Recommandation d'un médicament à un nouveau patient, basé sur son cluster\n",
        "new_patient_symptoms = ['headache', 'fever', 'cough']\n",
        "new_patient_disease = ['COVID-19']\n",
        "new_patient_causes = ['infection']\n",
        "\n",
        "new_X = pd.DataFrame({'Symptoms': [new_patient_symptoms],\n",
        "                      'Disease': [new_patient_disease],\n",
        "                      'Causes': [new_patient_causes]})\n",
        "\n",
        "cluster_new = infer_kmeans(new_X, kmeans, mlbs)\n",
        "print(\"\\nLe nouveau patient est le plus semblable au cluster\", cluster_new[0])"
      ],
      "metadata": {
        "colab": {
          "base_uri": "https://localhost:8080/"
        },
        "id": "_9vLnA3dkpJf",
        "outputId": "37821fc8-3543-4611-87a3-5d9e9e91fcf4"
      },
      "execution_count": 37,
      "outputs": [
        {
          "output_type": "stream",
          "name": "stdout",
          "text": [
            "\n",
            "Le nouveau patient est le plus semblable au cluster 5\n"
          ]
        }
      ]
    },
    {
      "cell_type": "code",
      "source": [
        "#Affichage des détails d'un cluster en particulier\n",
        "def show_cluster_features(df, cluster_id, top_n=5):\n",
        "    cluster_df = df[df['Cluster'] == cluster_id]\n",
        "\n",
        "    top_symptoms = cluster_df.explode('Symptoms')['Symptoms'].value_counts().head(top_n)\n",
        "    top_diseases = cluster_df.explode('Disease')['Disease'].value_counts().head(top_n)\n",
        "\n",
        "    print(f\" Cluster {cluster_id} Summary:\")\n",
        "    print(\"\\n Top Symptoms:\")\n",
        "    print(top_symptoms)\n",
        "    print(\"\\n Top Diseases:\")\n",
        "    print(top_diseases)\n",
        "    print(f\"\\n Total Patients in Cluster: {len(cluster_df)}\")\n",
        "\n",
        "show_cluster_features(X_train, cluster_id=1)"
      ],
      "metadata": {
        "colab": {
          "base_uri": "https://localhost:8080/"
        },
        "id": "b_uF_G_SuJKb",
        "outputId": "999834c4-4a2b-44b5-9523-79a64e6207a5"
      },
      "execution_count": 39,
      "outputs": [
        {
          "output_type": "stream",
          "name": "stdout",
          "text": [
            " Cluster 1 Summary:\n",
            "\n",
            " Top Symptoms:\n",
            "Symptoms\n",
            "other       18\n",
            "fatigue      6\n",
            "nausea       4\n",
            "itching      4\n",
            "headache     3\n",
            "Name: count, dtype: int64\n",
            "\n",
            " Top Diseases:\n",
            "Disease\n",
            "other    18\n",
            "Name: count, dtype: int64\n",
            "\n",
            " Total Patients in Cluster: 18\n"
          ]
        }
      ]
    },
    {
      "cell_type": "markdown",
      "source": [
        "# KNN"
      ],
      "metadata": {
        "id": "ynikYg1n-TXI"
      }
    },
    {
      "cell_type": "code",
      "source": [
        "def train_knn(X, y, nb_neig, encoders):\n",
        "    encoders = train_binarizers(X, encoders)\n",
        "    encoders[3].fit(y)\n",
        "    X_transformed = encode_features(X, encoders)\n",
        "    y_transformed = encoders[3].transform(y)\n",
        "    knn = KNeighborsClassifier(n_neighbors=nb_neig, metric='cosine')\n",
        "    knn.fit(X_transformed, y_transformed)\n",
        "    return knn, encoders\n",
        "\n",
        "def infer_knn(X, y, knn, encoders):\n",
        "    X_transformed = encode_features(X, encoders)\n",
        "    y_transformed = encoders[3].transform(y)\n",
        "    predicted_medicines = knn.predict(X_transformed)\n",
        "    return predicted_medicines\n",
        "\n",
        "def score_knn(nb_neig, data, encoders):\n",
        "    knn, encoders = train_knn(data[0], data[1], nb_neig, encoders)\n",
        "    predicted_medicines = infer_knn(data[2], data[3], knn, encoders)\n",
        "    X_trans_train = encode_features(data[0], encoders)\n",
        "    y_trans_train = encoders[3].transform(data[1])\n",
        "    X_trans_test = encode_features(data[2], encoders)\n",
        "    y_trans_test = encoders[3].transform(data[3])\n",
        "    score_train = knn.score(X_trans_train, y_trans_train)\n",
        "    score_test = knn.score(X_trans_test, y_trans_test)\n",
        "    scores = [score_train, score_test]\n",
        "    return scores"
      ],
      "metadata": {
        "id": "5XDS3uv5CptO"
      },
      "execution_count": 68,
      "outputs": []
    },
    {
      "cell_type": "code",
      "source": [
        "raw_X = df[['Symptoms', 'Disease', 'Causes', 'Medicine']]\n",
        "raw_y = df['Medicine'].apply(lambda x: x[0])\n",
        "data = {}\n",
        "data[0], data[2], data[1], data[3] = train_test_split( raw_X, raw_y,\n",
        "                                   test_size=0.2, random_state=113)\n",
        "mlb_disease = MultiLabelBinarizer()\n",
        "mlb_symptoms = MultiLabelBinarizer()\n",
        "mlb_causes = MultiLabelBinarizer()\n",
        "y_le = LabelEncoder()\n",
        "encoders = [mlb_disease, mlb_symptoms, mlb_causes, y_le]\n",
        "\n",
        "scores = {}\n",
        "for i in range(2, 5):\n",
        "    scores[i] = score_knn(i, data, encoders)\n",
        "print(scores)\n",
        "\n",
        "knn, encoders = train_knn(data[0], data[1], 2, encoders)\n",
        "predicted_ids = infer_knn(data[2], data[3], knn, encoders)\n",
        "predicted_medicines = encoders[3].inverse_transform(predicted_ids)"
      ],
      "metadata": {
        "colab": {
          "base_uri": "https://localhost:8080/"
        },
        "id": "4ixd-8jdDbZ-",
        "outputId": "8208e0af-4d33-46df-f776-eb3b89b0f4a7"
      },
      "execution_count": 82,
      "outputs": [
        {
          "output_type": "stream",
          "name": "stdout",
          "text": [
            "{2: [0.9635416666666666, 0.9183673469387755], 3: [0.9583333333333334, 0.9183673469387755], 4: [0.9479166666666666, 0.9183673469387755]}\n"
          ]
        }
      ]
    },
    {
      "cell_type": "code",
      "source": [
        "predicted_medicines"
      ],
      "metadata": {
        "colab": {
          "base_uri": "https://localhost:8080/"
        },
        "id": "B-2jaKscQIw9",
        "outputId": "8d790f69-9bbe-412e-a0fd-f3348de229e7"
      },
      "execution_count": 83,
      "outputs": [
        {
          "output_type": "execute_result",
          "data": {
            "text/plain": [
              "array(['nsaids', 'other', 'other', 'other', 'therapy', 'isolation',\n",
              "       'rest', 'antacids', 'fluids', 'other', 'rest', 'other',\n",
              "       'antibiotics', 'fluids', 'isolation', 'nsaids', 'nsaids', 'other',\n",
              "       'oral_rehydration', 'rest', 'oral_rehydration', 'rest', 'other',\n",
              "       'rest', 'rest', 'rest', 'other', 'rest', 'antibiotics',\n",
              "       'isolation', 'antihistamine', 'pain_relievers', 'pain_relievers',\n",
              "       'antihistamine', 'pain_relievers', 'rest', 'nsaids', 'fluids',\n",
              "       'therapy', 'rest', 'other', 'other', 'fluids', 'antibiotics',\n",
              "       'rest', 'isolation', 'other', 'other', 'other'], dtype=object)"
            ]
          },
          "metadata": {},
          "execution_count": 83
        }
      ]
    }
  ]
}