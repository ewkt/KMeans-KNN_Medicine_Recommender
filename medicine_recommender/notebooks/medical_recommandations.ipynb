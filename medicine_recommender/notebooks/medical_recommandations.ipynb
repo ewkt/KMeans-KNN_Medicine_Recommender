{
  "cells": [
    {
      "cell_type": "markdown",
      "metadata": {
        "id": "-C1pGRmAp949"
      },
      "source": [
        "# SYSTEME DE RECOMMENDATION DE MEDICAMMENTS PAR CLUSTERRING\n",
        "*Réalisé par Théo EWBANK, Corentin CUI, Khadidiatou DIOKH, Destinée MOUELY.*\n",
        "\n",
        "Etudiants ING3 DS - Année 2024-2025"
      ]
    },
    {
      "cell_type": "markdown",
      "metadata": {
        "id": "NNBSUTqO2_vg"
      },
      "source": [
        "# Imports"
      ]
    },
    {
      "cell_type": "code",
      "execution_count": null,
      "metadata": {
        "id": "XpDwfc4BVEDq"
      },
      "outputs": [],
      "source": [
        "import re\n",
        "import pandas as pd\n",
        "import numpy as np\n",
        "import plotly.express as px\n",
        "from plotly.subplots import make_subplots\n",
        "import plotly.graph_objects as go\n",
        "from sklearn.preprocessing import MultiLabelBinarizer, LabelEncoder\n",
        "from sklearn.cluster import KMeans\n",
        "from sklearn.neighbors import KNeighborsClassifier\n",
        "from sklearn.model_selection import train_test_split\n",
        "from sklearn.metrics import accuracy_score, silhouette_score\n",
        "\n",
        "df_name = \"../data/medical_data.csv\""
      ]
    },
    {
      "cell_type": "code",
      "execution_count": null,
      "metadata": {
        "colab": {
          "base_uri": "https://localhost:8080/"
        },
        "id": "HZvpnm4VWD2z",
        "outputId": "1bf14f3b-de31-46a5-f2c6-70c3ef9c19e7"
      },
      "outputs": [],
      "source": [
        "df_raw = pd.read_csv(df_name)\n",
        "print(df_raw.head())\n",
        "print(df_raw.columns)"
      ]
    },
    {
      "cell_type": "code",
      "execution_count": null,
      "metadata": {
        "id": "mARzDJKcFIn1"
      },
      "outputs": [],
      "source": [
        "#focntios essentielles\n",
        "def train_binarizers(X, mlbs):\n",
        "    mlbs[0].fit(X['Symptoms'])\n",
        "    mlbs[1].fit(X['Disease'])\n",
        "    mlbs[2].fit(X['Causes'])\n",
        "    return mlbs\n",
        "\n",
        "def encode_features(X, mlbs):\n",
        "    X_symptoms = mlbs[0].transform(X['Symptoms'])\n",
        "    X_diseases = mlbs[1].transform(X['Disease'])\n",
        "    X_causes = mlbs[2].transform(X['Causes'])\n",
        "    X_transformed = np.hstack((X_symptoms, X_diseases, X_causes))\n",
        "    return X_transformed"
      ]
    },
    {
      "cell_type": "markdown",
      "metadata": {
        "id": "0ShaywdjTtpg"
      },
      "source": [
        "# Data Cleaning & Feature creation"
      ]
    },
    {
      "cell_type": "code",
      "execution_count": null,
      "metadata": {
        "colab": {
          "base_uri": "https://localhost:8080/",
          "height": 562
        },
        "id": "U8x7cA99rVnW",
        "outputId": "3f485e6f-feb4-4938-ab19-79283dd8db76"
      },
      "outputs": [],
      "source": [
        "data_for_colors = df_raw.isna().astype(int)\n",
        "\n",
        "# Define colors: purple for valid cells, yellow for NaN\n",
        "colorscale = [\n",
        "    [0, 'purple'],  # 0 corresponds to valid cells\n",
        "    [1, 'yellow']   # 1 corresponds to NaN cells\n",
        "]\n",
        "# Create the heatmap\n",
        "fig = go.Figure(data=go.Heatmap(\n",
        "    z=data_for_colors.values,\n",
        "    x=df_raw.columns,\n",
        "    y=df_raw.index,\n",
        "    colorscale=colorscale,\n",
        "    showscale=False  # Hide the color scale\n",
        "))\n",
        "fig.show()"
      ]
    },
    {
      "cell_type": "code",
      "execution_count": null,
      "metadata": {
        "id": "3uCS1L4MTtXS"
      },
      "outputs": [],
      "source": [
        "df = df_raw.copy()\n",
        "df.drop(columns=['Name'], inplace=True)\n",
        "df.dropna(thresh=4, inplace=True) # On supprime les colonnes qui n'ont pas assez d'info\n",
        "\n",
        "######## 1. AGE\n",
        "df['DateOfBirth'] = pd.to_datetime(df['DateOfBirth'], errors='coerce', dayfirst=True)\n",
        "df['Age'] = (2025 - df['DateOfBirth'].dt.year)\n",
        "mean_age = df['Age'].mean() # On complete les ages NA avec la moyenne\n",
        "df['Age'] = df['Age'].fillna(mean_age).astype(int)\n",
        "\n",
        "df['is_young'] = [1 if age < 25 else 0 for age in df['Age']] # On crée des features one-hot\n",
        "df['is_old'] = [1 if age > 45 else 0 for age in df['Age']]\n",
        "df['is_middleaged'] = [1 if age >= 25 and age <= 45 else 0 for age in df['Age']]\n",
        "\n",
        "######## 2. GENDER\n",
        "df['Gender'] = df['Gender'].replace({\n",
        "    'Femal': 'Female'  # On standardise la colonne 'Gender'\n",
        "})\n",
        "\n",
        "######## 3. SYMPOMS, MEDICINE, CAUSES, DISEASE\n",
        "re1 = r\"shortness(\\s*of\\s*brea(th|t)?)?\"\n",
        "re2 = r'[a-z_-]*covid(-19)?_exposure[a-z_-]*'\n",
        "\n",
        "def process_row(row):\n",
        "    row = row.lower().split(',')\n",
        "    row = [re.sub(re1, 'shortness_of_breath', val) for val in row]\n",
        "    row = [val.replace(' ', '_') for val in row]\n",
        "    row = [re.sub(r'^e_', '', val) for val in row]\n",
        "    row = [val.lstrip('_') for val in row]\n",
        "    row = [val.rstrip('_') for val in row]\n",
        "    row = [val.rstrip('_o') for val in row]\n",
        "    row = [val.replace('on___', '') for val in row]\n",
        "    row = [re.sub(re2, 'covid_exposure', val) for val in row]\n",
        "    row = [re.sub(r'rheumatoid_arthrit(i|is)?', 'rheumatoid_arthritis', val) for val in row]\n",
        "    row = [val.replace('chronic_fatiguesyndrome', 'chronic_fatigue_syndrome') for val in row]\n",
        "    return row\n",
        "\n",
        "df['Symptoms'] = df['Symptoms'].apply(lambda x: process_row(x))\n",
        "df['Medicine'] = df['Medicine'].apply(lambda x: process_row(x))\n",
        "df['Causes'] = df['Causes'].apply(lambda x: process_row(x))\n",
        "df['Disease'] = df['Disease'].apply(lambda x: [x])\n",
        "\n",
        "def set_uncommon_to_other(series):\n",
        "    value_counts = series.explode().value_counts()\n",
        "    uncommon_values = value_counts[value_counts < 6].index.tolist()\n",
        "    series = series.apply(lambda x: ['other' if val in uncommon_values else val for val in x])\n",
        "    return series\n",
        "\n",
        "def set_rare_diseases_to_other(series):\n",
        "    value_counts = series.value_counts()\n",
        "    uncommon_values = value_counts[value_counts < 4].index.tolist()\n",
        "    series = series.apply(lambda x: 'other' if x in uncommon_values else x)\n",
        "    return series\n",
        "\n",
        "df[['Symptoms','Causes','Medicine','Disease']] = df[['Symptoms','Causes','Medicine','Disease']].apply(lambda x: set_uncommon_to_other(x), axis=0)\n",
        "#df[['Disease']] = df[['Disease']].apply(lambda x: set_rare_diseases_to_other(x), axis=0)"
      ]
    },
    {
      "cell_type": "markdown",
      "metadata": {
        "id": "BtsjqaLhULxz"
      },
      "source": [
        "# EDA"
      ]
    },
    {
      "cell_type": "code",
      "execution_count": null,
      "metadata": {
        "colab": {
          "base_uri": "https://localhost:8080/",
          "height": 937
        },
        "id": "jfcGCoyFVicW",
        "outputId": "e90ebe46-e03f-4b8c-b969-17dfcbb49b99"
      },
      "outputs": [],
      "source": [
        "# Analyse des fréquences\n",
        "top_diseases = df['Disease'].loc[lambda x: x != 'other'].value_counts().head(10)\n",
        "top_symptoms = df['Symptoms'].explode().loc[lambda x: x != 'other'].value_counts().head(10)\n",
        "top_medicines = df['Medicine'].explode().loc[lambda x: x != 'other'].value_counts().head(10)\n",
        "gender_distribution = df['Gender'].value_counts().head(10)\n",
        "\n",
        "# Crosstabs\n",
        "gender_disease = pd.crosstab(df['Gender'], df['Disease'])\n",
        "\n",
        "age_disease_table = df.groupby('Disease')[['is_young', 'is_middleaged', 'is_old']].sum()\n",
        "age_disease_table.columns = ['Young', 'Middle-aged', 'Old']\n",
        "\n",
        "# Create a subplot figure\n",
        "fig = make_subplots(\n",
        "    rows=3, cols=2,\n",
        "    subplot_titles=(\n",
        "        \"Top 10 maladies les plus fréquentes\",\n",
        "        \"Top 10 symptômes les plus fréquents\",\n",
        "        \"Top 10 médicaments les plus prescrits\",\n",
        "        \"Répartition par sexe\",\n",
        "        \"Sexe vs Maladies principales\",\n",
        "        \"Groupe d’âge vs Maladies principales\"\n",
        "    ),\n",
        "    specs=[[{\"type\": \"bar\"}, {\"type\": \"bar\"}],\n",
        "           [{\"type\": \"bar\"}, {\"type\": \"pie\"}],\n",
        "           [{\"type\": \"heatmap\"}, {\"type\": \"heatmap\"}]]\n",
        ")\n",
        "\n",
        "fig.add_trace(go.Bar(x=top_diseases.values, y=top_diseases.index, orientation='h', marker=dict(color='blue')), row=1, col=1)\n",
        "fig.add_trace(go.Bar(x=top_symptoms.values, y=top_symptoms.index, orientation='h', marker=dict(color='red')), row=1, col=2)\n",
        "fig.add_trace(go.Bar(x=top_medicines.values, y=top_medicines.index, orientation='h', marker=dict(color='green')), row=2, col=1)\n",
        "fig.add_trace(go.Pie(text=gender_distribution.index, values=gender_distribution.values, hole=0.4), row=2, col=2)\n",
        "fig.add_trace(go.Heatmap(\n",
        "        z=gender_disease.loc[:, gender_disease.sum().sort_values(ascending=False).head(5).index].values,\n",
        "        x=gender_disease.columns[:5],\n",
        "        y=gender_disease.index,\n",
        "        colorscale=px.colors.sequential.Plasma,\n",
        "        showscale=False, text=gender_disease.loc[:, gender_disease.sum().sort_values(ascending=False).head(5).index].values,\n",
        "        texttemplate=\"%{text}\", hovertemplate=None), row=3, col=1)\n",
        "\n",
        "# 6. Groupe d’âge vs maladies principales\n",
        "fig.add_trace(go.Heatmap(\n",
        "        z=age_disease_table.values,\n",
        "        x=age_disease_table.columns,\n",
        "        y=age_disease_table.index,\n",
        "        colorscale=px.colors.sequential.Plasma,\n",
        "        showscale=False, text=age_disease_table.values,\n",
        "        texttemplate=\"%{text}\", hovertemplate=None), row=3, col=2)\n",
        "\n",
        "# Update layout\n",
        "fig.update_layout(\n",
        "    height=900, width=1200,\n",
        "    title_text=\"Visualisation des données\",\n",
        "    showlegend=False\n",
        ")\n",
        "\n",
        "fig.show()"
      ]
    },
    {
      "cell_type": "markdown",
      "metadata": {
        "id": "9qgRJqwu-dyH"
      },
      "source": [
        "# Kmeans"
      ]
    },
    {
      "cell_type": "code",
      "execution_count": null,
      "metadata": {
        "id": "GginQ7KEuEtQ"
      },
      "outputs": [],
      "source": [
        "#Define functions\n",
        "def train_kmeans(X, nb_clusters, mlbs):\n",
        "    mlbs = train_binarizers(X, mlbs)\n",
        "    X_transformed = encode_features(X, mlbs)\n",
        "    kmeans = KMeans(n_clusters=nb_clusters, random_state=113)\n",
        "    kmeans.fit(X_transformed)\n",
        "    clusters = kmeans.labels_\n",
        "    return kmeans, mlbs, clusters\n",
        "\n",
        "def infer_kmeans(X, kmeans, mlbs):\n",
        "    X_transformed = encode_features(X, mlbs)\n",
        "    clusters = kmeans.predict(X_transformed)\n",
        "    return clusters\n",
        "\n",
        "def score_kmeans(nb_clusters, X_train, X_test, mlbs):\n",
        "    kmeans, mlbs, clusters_train = train_kmeans(X_train, nb_clusters, mlbs)\n",
        "    clusters_test = infer_kmeans(X_test, kmeans, mlbs)\n",
        "    score_train = silhouette_score(encode_features(X_train, mlbs), clusters_train)\n",
        "    score_test = silhouette_score(encode_features(X_test, mlbs), clusters_test)\n",
        "    scores = [score_train, score_test]\n",
        "    return scores"
      ]
    },
    {
      "cell_type": "code",
      "execution_count": null,
      "metadata": {
        "colab": {
          "base_uri": "https://localhost:8080/"
        },
        "id": "GbDo455Z9U1_",
        "outputId": "3d92b636-f5f0-4f2b-a925-dc17df1a9711"
      },
      "outputs": [],
      "source": [
        "#Initialisation et recherche du meilleur nb de clusters\n",
        "X_train, X_test = train_test_split(df[['Symptoms', 'Disease', 'Causes', 'Medicine']],\n",
        "                                   test_size=0.2, random_state=113)\n",
        "mlb_disease = MultiLabelBinarizer()\n",
        "mlb_symptoms = MultiLabelBinarizer()\n",
        "mlb_causes = MultiLabelBinarizer()\n",
        "mlbs = [mlb_disease, mlb_symptoms, mlb_causes]\n",
        "\n",
        "scores = {}\n",
        "for i in range(2, 20):\n",
        "    scores[i] = score_kmeans(i, X_train, X_test, mlbs)\n",
        "print(scores)\n",
        "\n",
        "kmeans, mlbs, clusters_train = train_kmeans(X_train, 15, mlbs)\n",
        "clusters_test = infer_kmeans(X_test, kmeans, mlbs)"
      ]
    },
    {
      "cell_type": "code",
      "execution_count": null,
      "metadata": {
        "colab": {
          "base_uri": "https://localhost:8080/"
        },
        "id": "5lMlyS_8lguy",
        "outputId": "c8e8a210-0b46-42ae-d956-a2c8b8f4272f"
      },
      "outputs": [],
      "source": [
        "#Extraction du meilleur médicamment pour chaque cluster\n",
        "X_train['Cluster'] = clusters_train\n",
        "\n",
        "cluster_top_medecine = {}\n",
        "\n",
        "for cluster in range(15):\n",
        "    cluster_df = X_train[X_train['Cluster'] == cluster]\n",
        "    nb_patients = len(cluster_df)\n",
        "    top_medicine = cluster_df['Medicine'].explode().value_counts().head(1).index[0]\n",
        "    cluster_top_medecine[cluster] = top_medicine\n",
        "    print(f\"Cluster {cluster}: {top_medicine} - {nb_patients} patients\")"
      ]
    },
    {
      "cell_type": "code",
      "execution_count": null,
      "metadata": {
        "colab": {
          "base_uri": "https://localhost:8080/",
          "height": 178
        },
        "id": "uwB2EwEFnjNI",
        "outputId": "a2b985f9-eb74-4a9b-94d7-59b7c34de7e3"
      },
      "outputs": [],
      "source": [
        "#Evaluation sur le test set\n",
        "X_test['Cluster'] = clusters_test\n",
        "X_test['Cluster_medicine'] = X_test['Cluster'].map(cluster_top_medecine)\n",
        "\n",
        "def calculate_precision_recall(row):\n",
        "    value = 'No'\n",
        "    for i in range(len(row['Medicine'])):\n",
        "      if row['Medicine'][i] == row['Cluster_medicine']:\n",
        "        value = 'Yes'\n",
        "    return value\n",
        "\n",
        "X_test['Predicted_Medicine_Is_Correct'] = X_test.apply(calculate_precision_recall, axis=1)\n",
        "X_test['Predicted_Medicine_Is_Correct'].value_counts()"
      ]
    },
    {
      "cell_type": "code",
      "execution_count": null,
      "metadata": {
        "colab": {
          "base_uri": "https://localhost:8080/"
        },
        "id": "_9vLnA3dkpJf",
        "outputId": "37821fc8-3543-4611-87a3-5d9e9e91fcf4"
      },
      "outputs": [],
      "source": [
        "#Recommandation d'un médicament à un nouveau patient, basé sur son cluster\n",
        "new_patient_symptoms = ['headache', 'fever', 'cough']\n",
        "new_patient_disease = ['COVID-19']\n",
        "new_patient_causes = ['infection']\n",
        "\n",
        "new_X = pd.DataFrame({'Symptoms': [new_patient_symptoms],\n",
        "                      'Disease': [new_patient_disease],\n",
        "                      'Causes': [new_patient_causes]})\n",
        "\n",
        "cluster_new = infer_kmeans(new_X, kmeans, mlbs)\n",
        "print(\"\\nLe nouveau patient est le plus semblable au cluster\", cluster_new[0])"
      ]
    },
    {
      "cell_type": "code",
      "execution_count": null,
      "metadata": {
        "colab": {
          "base_uri": "https://localhost:8080/"
        },
        "id": "b_uF_G_SuJKb",
        "outputId": "999834c4-4a2b-44b5-9523-79a64e6207a5"
      },
      "outputs": [],
      "source": [
        "#Affichage des détails d'un cluster en particulier\n",
        "def show_cluster_features(df, cluster_id, top_n=5):\n",
        "    cluster_df = df[df['Cluster'] == cluster_id]\n",
        "\n",
        "    top_symptoms = cluster_df.explode('Symptoms')['Symptoms'].value_counts().head(top_n)\n",
        "    top_diseases = cluster_df.explode('Disease')['Disease'].value_counts().head(top_n)\n",
        "\n",
        "    print(f\" Cluster {cluster_id} Summary:\")\n",
        "    print(\"\\n Top Symptoms:\")\n",
        "    print(top_symptoms)\n",
        "    print(\"\\n Top Diseases:\")\n",
        "    print(top_diseases)\n",
        "    print(f\"\\n Total Patients in Cluster: {len(cluster_df)}\")\n",
        "\n",
        "show_cluster_features(X_train, cluster_id=1)"
      ]
    },
    {
      "cell_type": "markdown",
      "metadata": {
        "id": "ynikYg1n-TXI"
      },
      "source": [
        "# KNN"
      ]
    },
    {
      "cell_type": "code",
      "execution_count": null,
      "metadata": {
        "id": "5XDS3uv5CptO"
      },
      "outputs": [],
      "source": [
        "def train_knn(X, y, nb_neig, encoders):\n",
        "    encoders = train_binarizers(X, encoders)\n",
        "    encoders[3].fit(y)\n",
        "    X_transformed = encode_features(X, encoders)\n",
        "    y_transformed = encoders[3].transform(y)\n",
        "    knn = KNeighborsClassifier(n_neighbors=nb_neig, metric='cosine')\n",
        "    knn.fit(X_transformed, y_transformed)\n",
        "    return knn, encoders\n",
        "\n",
        "def infer_knn(X, knn, encoders):\n",
        "    X_transformed = encode_features(X, encoders)\n",
        "    predicted_medicines = knn.predict(X_transformed)\n",
        "    return predicted_medicines\n",
        "\n",
        "def score_knn(nb_neig, data, encoders):\n",
        "    knn, encoders = train_knn(data[0], data[1], nb_neig, encoders)\n",
        "    X_trans_train = encode_features(data[0], encoders)\n",
        "    y_trans_train = encoders[3].transform(data[1])\n",
        "    X_trans_test = encode_features(data[2], encoders)\n",
        "    y_trans_test = encoders[3].transform(data[3])\n",
        "    score_train = knn.score(X_trans_train, y_trans_train)\n",
        "    score_test = knn.score(X_trans_test, y_trans_test)\n",
        "    scores = [score_train, score_test]\n",
        "    return scores"
      ]
    },
    {
      "cell_type": "code",
      "execution_count": null,
      "metadata": {
        "colab": {
          "base_uri": "https://localhost:8080/"
        },
        "id": "4ixd-8jdDbZ-",
        "outputId": "8208e0af-4d33-46df-f776-eb3b89b0f4a7"
      },
      "outputs": [],
      "source": [
        "raw_X = df[['Symptoms', 'Disease', 'Causes', 'Medicine']]\n",
        "raw_y = df['Medicine'].apply(lambda x: x[0])\n",
        "data = {}\n",
        "data[0], data[2], data[1], data[3] = train_test_split( raw_X, raw_y,\n",
        "                                   test_size=0.2, random_state=113)\n",
        "mlb_disease = MultiLabelBinarizer()\n",
        "mlb_symptoms = MultiLabelBinarizer()\n",
        "mlb_causes = MultiLabelBinarizer()\n",
        "y_le = LabelEncoder()\n",
        "encoders = [mlb_disease, mlb_symptoms, mlb_causes, y_le]\n",
        "\n",
        "scores = {}\n",
        "for i in range(2, 5):\n",
        "    scores[i] = score_knn(i, data, encoders)\n",
        "print(scores)\n",
        "\n",
        "knn, encoders = train_knn(data[0], data[1], 2, encoders)\n",
        "predicted_ids = infer_knn(data[2], knn, encoders)\n",
        "predicted_medicines = encoders[3].inverse_transform(predicted_ids)\n",
        "accuracy_score(data[3], predicted_medicines)"
      ]
    }
  ],
  "metadata": {
    "colab": {
      "provenance": []
    },
    "kernelspec": {
      "display_name": "Python 3",
      "name": "python3"
    },
    "language_info": {
      "name": "python"
    }
  },
  "nbformat": 4,
  "nbformat_minor": 0
}
